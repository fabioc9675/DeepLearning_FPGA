{
 "cells": [
  {
   "cell_type": "markdown",
   "metadata": {},
   "source": [
    "# Generacion de los datos de prueba"
   ]
  },
  {
   "cell_type": "code",
   "execution_count": 6,
   "metadata": {},
   "outputs": [],
   "source": [
    "import sys\n",
    "\n",
    "outputPath = \"testData/\"\n",
    "headerFilePath = \"\"\n",
    "\n",
    "try:\n",
    "    import cPickle as pickle\n",
    "except:\n",
    "    import pickle\n",
    "\n",
    "import gzip\n",
    "import numpy as np"
   ]
  },
  {
   "cell_type": "markdown",
   "metadata": {},
   "source": [
    "Funcion para pasar de decimales a binario"
   ]
  },
  {
   "cell_type": "code",
   "execution_count": 2,
   "metadata": {},
   "outputs": [],
   "source": [
    "def DtoB(num,dataWidth,fracBits):                        #funtion for converting into two's complement format\n",
    "    if num >= 0:\n",
    "        num = num * (2**fracBits)\n",
    "        d = int(num)\n",
    "    else:\n",
    "        num = -num\n",
    "        num = num * (2**fracBits)        #number of fractional bits\n",
    "        num = int(num)\n",
    "        if num == 0:\n",
    "            d = 0\n",
    "        else:\n",
    "            d = 2**dataWidth - num\n",
    "    return d"
   ]
  },
  {
   "cell_type": "markdown",
   "metadata": {},
   "source": [
    "Funcion para carga de datos"
   ]
  },
  {
   "cell_type": "code",
   "execution_count": 3,
   "metadata": {},
   "outputs": [],
   "source": [
    "def load_data():\n",
    "    f = gzip.open('mnist.pkl.gz', 'rb')         #change this location to the resiprositry where MNIST dataset sits\n",
    "    try:\n",
    "        training_data, validation_data, test_data = pickle.load(f,encoding='latin1')\n",
    "    except:\n",
    "        training_data, validation_data, test_data = pickle.load(f)\n",
    "    f.close()\n",
    "    return (training_data, validation_data, test_data)\n"
   ]
  },
  {
   "cell_type": "markdown",
   "metadata": {},
   "source": [
    "Funcion para generar el set de datos de test"
   ]
  },
  {
   "cell_type": "code",
   "execution_count": 4,
   "metadata": {},
   "outputs": [],
   "source": [
    "def genTestData(dataWidth,IntSize,testDataNum):\n",
    "    dataHeaderFile = open(headerFilePath+\"dataValues.h\",\"w\")\n",
    "    dataHeaderFile.write(\"int dataValues[]={\")\n",
    "    tr_d, va_d, te_d = load_data()\n",
    "    test_inputs = [np.reshape(x, (1, 784)) for x in te_d[0]]\n",
    "    x = len(test_inputs[0][0])\n",
    "    d=dataWidth-IntSize\n",
    "    count = 0\n",
    "    fileName = 'test_data.txt'\n",
    "    f = open(outputPath+fileName,'w')\n",
    "    fileName = 'visual_data'+str(te_d[1][testDataNum])+'.txt'\n",
    "    g = open(outputPath+fileName,'w')\n",
    "    k = open('testData.txt','w')\n",
    "    for i in range(0,x):\n",
    "        k.write(str(test_inputs[testDataNum][0][i])+',')\n",
    "        dInDec = DtoB(test_inputs[testDataNum][0][i],dataWidth,d)\n",
    "        myData = bin(dInDec)[2:]\n",
    "        dataHeaderFile.write(str(dInDec)+',')\n",
    "        f.write(myData+'\\n')\n",
    "        if test_inputs[testDataNum][0][i]>0:\n",
    "            g.write(str(1)+' ')\n",
    "        else:\n",
    "            g.write(str(0)+' ')\n",
    "        count += 1\n",
    "        if count%28 == 0:\n",
    "            g.write('\\n')\n",
    "    k.close()\n",
    "    g.close()\n",
    "    f.close()\n",
    "    dataHeaderFile.write('0};\\n')\n",
    "    dataHeaderFile.write('int result='+str(te_d[1][testDataNum])+';\\n')\n",
    "    dataHeaderFile.close()"
   ]
  },
  {
   "cell_type": "markdown",
   "metadata": {},
   "source": [
    "Funcion para generar todos los datos"
   ]
  },
  {
   "cell_type": "code",
   "execution_count": 18,
   "metadata": {},
   "outputs": [],
   "source": [
    "def genAllTestData(dataWidth,IntSize):\n",
    "    tr_d, va_d, te_d = load_data()\n",
    "    test_inputs = [np.reshape(x, (1, 784)) for x in te_d[0]]\n",
    "    x = len(test_inputs[0][0])\n",
    "    d=dataWidth-IntSize\n",
    "    for i in range(0,200): #len(test_inputs)):\n",
    "        if i < 10:\n",
    "            ext = \"000\"+str(i)\n",
    "        elif i < 100:\n",
    "            ext = \"00\"+str(i)\n",
    "        elif i < 1000:\n",
    "            ext = \"0\"+str(i)\n",
    "        else:\n",
    "            ext = str(i)\n",
    "        fileName = 'test_data_'+ext+'.txt'\n",
    "        f = open(outputPath+fileName,'w')\n",
    "        for j in range(0,x):\n",
    "            dInDec = DtoB(test_inputs[i][0][j],dataWidth,d)\n",
    "            myData = bin(dInDec)[2:]\n",
    "            f.write(myData+'\\n')\n",
    "        f.write(bin(DtoB((te_d[1][i]),dataWidth,0))[2:])\n",
    "        f.close()\n"
   ]
  },
  {
   "cell_type": "markdown",
   "metadata": {},
   "source": [
    "Generacion de dato"
   ]
  },
  {
   "cell_type": "code",
   "execution_count": 7,
   "metadata": {},
   "outputs": [],
   "source": [
    "dataWidth = 16                    #specify the number of bits in test data\n",
    "IntSize = 1 #Number of bits of integer portion including sign bit\n",
    "\n",
    "try:\n",
    "    testDataNum = int(sys.argv[1])\n",
    "except:\n",
    "    testDataNum = 3\n",
    "\n",
    "# genAllTestData(dataWidth, IntSize)\n",
    "genTestData(dataWidth, IntSize, testDataNum=0)\n"
   ]
  }
 ],
 "metadata": {
  "kernelspec": {
   "display_name": "Python 3",
   "language": "python",
   "name": "python3"
  },
  "language_info": {
   "codemirror_mode": {
    "name": "ipython",
    "version": 3
   },
   "file_extension": ".py",
   "mimetype": "text/x-python",
   "name": "python",
   "nbconvert_exporter": "python",
   "pygments_lexer": "ipython3",
   "version": "3.10.9"
  },
  "orig_nbformat": 4,
  "vscode": {
   "interpreter": {
    "hash": "6f59339097bb9ac4cf41ab9fa2e7f783ea6bb84442f6ce2c2671fa41ded377c2"
   }
  }
 },
 "nbformat": 4,
 "nbformat_minor": 2
}
