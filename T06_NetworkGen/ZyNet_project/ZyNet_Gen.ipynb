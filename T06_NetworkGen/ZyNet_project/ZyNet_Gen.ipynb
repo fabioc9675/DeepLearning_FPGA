{
 "cells": [
  {
   "cell_type": "markdown",
   "metadata": {},
   "source": [
    "# ZyNET Use\n",
    "\n",
    "This script contains the ZyNET generator to create a NN project in Xilinx\n"
   ]
  },
  {
   "cell_type": "code",
   "execution_count": 17,
   "metadata": {},
   "outputs": [],
   "source": [
    "from zynet import zynet\n",
    "from zynet import utils\n",
    "import numpy as np\n"
   ]
  },
  {
   "cell_type": "markdown",
   "metadata": {},
   "source": [
    "Funcion para generar el projecto Zynet"
   ]
  },
  {
   "cell_type": "code",
   "execution_count": null,
   "metadata": {},
   "outputs": [],
   "source": [
    "# def genMnistZynet(dataWidth,sigmoidSize,weightIntSize,inputIntSize):\n",
    "#     model = zynet.model()\n",
    "#     model.add(zynet.layer(\"flatten\",784))\n",
    "#     model.add(zynet.layer(\"Dense\",30,\"sigmoid\"))\n",
    "#     model.add(zynet.layer(\"Dense\",20,\"sigmoid\"))\n",
    "#     model.add(zynet.layer(\"Dense\",10,\"sigmoid\"))\n",
    "#     model.add(zynet.layer(\"Dense\",10,\"hardmax\"))\n",
    "#     weightArray = utils.genWeightArray('WeigntsAndBiases.txt')\n",
    "#     biasArray = utils.genBiasArray('WeigntsAndBiases.txt')\n",
    "#     model.compile(pretrained='Yes',weights=weightArray,biases=biasArray,dataWidth=dataWidth,weightIntSize=weightIntSize,inputIntSize=inputIntSize,sigmoidSize=sigmoidSize)\n",
    "#     zynet.makeXilinxProject('myProject1','xc7z020clg484-1')\n",
    "#     zynet.makeIP('myProject1')\n",
    "#     zynet.makeSystem('myProject1','myBlock2')\n",
    "\n",
    "#     genMnistZynet(dataWidth=8,sigmoidSize=10,weightIntSize=4,inputIntSize=1)"
   ]
  },
  {
   "cell_type": "markdown",
   "metadata": {},
   "source": [
    "Creacion del modelo"
   ]
  },
  {
   "cell_type": "code",
   "execution_count": 18,
   "metadata": {},
   "outputs": [],
   "source": [
    "model = zynet.model()"
   ]
  },
  {
   "cell_type": "markdown",
   "metadata": {},
   "source": [
    "configuracion de capas"
   ]
  },
  {
   "cell_type": "code",
   "execution_count": 19,
   "metadata": {},
   "outputs": [],
   "source": [
    "model.add(zynet.layer(\"flatten\", 784))\n",
    "model.add(zynet.layer(\"Dense\",30,\"sigmoid\"))\n",
    "model.add(zynet.layer(\"Dense\",30,\"sigmoid\"))\n",
    "model.add(zynet.layer(\"Dense\",10,\"sigmoid\"))\n",
    "model.add(zynet.layer(\"Dense\",10,\"sigmoid\"))"
   ]
  },
  {
   "cell_type": "markdown",
   "metadata": {},
   "source": [
    "configuracion de pesos"
   ]
  },
  {
   "cell_type": "code",
   "execution_count": 20,
   "metadata": {},
   "outputs": [
    {
     "name": "stdout",
     "output_type": "stream",
     "text": [
      "Minimum bits required for integer representation of Weight Values 4\n"
     ]
    }
   ],
   "source": [
    "weightArray = utils.genWeightArray('weightsandbiases.txt')\n",
    "biasArray = utils.genBiasArray('weightsandbiases.txt')"
   ]
  },
  {
   "cell_type": "markdown",
   "metadata": {},
   "source": [
    "Model compilation"
   ]
  },
  {
   "cell_type": "code",
   "execution_count": 21,
   "metadata": {},
   "outputs": [],
   "source": [
    "dataWidth = 16\n",
    "inputIntSize = 1\n",
    "weightIntSize = 4\n",
    "sigmoidSize = 10"
   ]
  },
  {
   "cell_type": "code",
   "execution_count": 22,
   "metadata": {},
   "outputs": [],
   "source": [
    "model.compile(pretrained = 'Yes', weights = weightArray,\n",
    "              biases = biasArray, dataWidth = dataWidth,\n",
    "              weightIntSize = weightIntSize, inputIntSize = inputIntSize,\n",
    "              sigmoidSize = sigmoidSize)"
   ]
  },
  {
   "cell_type": "markdown",
   "metadata": {},
   "source": [
    "Project creation"
   ]
  },
  {
   "cell_type": "code",
   "execution_count": 23,
   "metadata": {},
   "outputs": [],
   "source": [
    "# zynet.makeXilinxProject('NN_Zynet_Prj', 'PYNQ-Z1 (xc7z020clg400-1)')\n",
    "zynet.makeXilinxProject('NN_Zynet_Prj', 'xc7z020clg400-1')"
   ]
  },
  {
   "cell_type": "markdown",
   "metadata": {},
   "source": [
    "Construccion de la IP"
   ]
  },
  {
   "cell_type": "code",
   "execution_count": 24,
   "metadata": {},
   "outputs": [],
   "source": [
    "zynet.makeIP('NN_Zynet_Prj')"
   ]
  },
  {
   "cell_type": "markdown",
   "metadata": {},
   "source": [
    "Construccion del sistema"
   ]
  },
  {
   "cell_type": "code",
   "execution_count": 25,
   "metadata": {},
   "outputs": [],
   "source": [
    "zynet.makeSystem('NN_Zynet_Prj', 'NN_Zinet_Block')"
   ]
  }
 ],
 "metadata": {
  "kernelspec": {
   "display_name": "Python 3.10.9 64-bit (microsoft store)",
   "language": "python",
   "name": "python3"
  },
  "language_info": {
   "codemirror_mode": {
    "name": "ipython",
    "version": 3
   },
   "file_extension": ".py",
   "mimetype": "text/x-python",
   "name": "python",
   "nbconvert_exporter": "python",
   "pygments_lexer": "ipython3",
   "version": "3.10.9"
  },
  "orig_nbformat": 4,
  "vscode": {
   "interpreter": {
    "hash": "4f2e58eb3fbe763d544ca8c764ae0dafb8a783ad3590ae35f64050946caeb10d"
   }
  }
 },
 "nbformat": 4,
 "nbformat_minor": 2
}
