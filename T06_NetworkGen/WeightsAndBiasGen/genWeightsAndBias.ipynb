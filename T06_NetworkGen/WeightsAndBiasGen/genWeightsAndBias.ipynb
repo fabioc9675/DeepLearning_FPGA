{
 "cells": [
  {
   "cell_type": "markdown",
   "metadata": {},
   "source": [
    "# Generacion de Weights y Bias como .mif file\n"
   ]
  },
  {
   "cell_type": "markdown",
   "metadata": {},
   "source": [
    "### Importar librerias\n"
   ]
  },
  {
   "cell_type": "code",
   "execution_count": 1,
   "metadata": {},
   "outputs": [],
   "source": [
    "import json"
   ]
  },
  {
   "cell_type": "markdown",
   "metadata": {},
   "source": [
    "Variables del programa\n"
   ]
  },
  {
   "cell_type": "code",
   "execution_count": 2,
   "metadata": {},
   "outputs": [],
   "source": [
    "dataWidth = 16\n",
    "dataIntWidth = 1\n",
    "weightIntWidth = 4\n",
    "inputFile = \"weightsandbiases.txt\"\n",
    "dataFracWidth = dataWidth - dataIntWidth\n",
    "weightFracWidth = dataWidth - weightIntWidth\n",
    "biasIntWidth = dataIntWidth + weightIntWidth\n",
    "biasFracWidth = dataWidth - biasIntWidth\n",
    "outputPath = \"weightBias/\"\n",
    "headerPath = \"\""
   ]
  },
  {
   "cell_type": "markdown",
   "metadata": {},
   "source": [
    "Funcion para transformar de decimal a binario\n"
   ]
  },
  {
   "cell_type": "code",
   "execution_count": 3,
   "metadata": {},
   "outputs": [],
   "source": [
    "def DtoB(num,dataWidth,fracBits):  #funtion for converting into two's complement format\n",
    "\tif num >= 0:\n",
    "\t\tnum = num * (2**fracBits)\n",
    "\t\tnum = int(num)\n",
    "\t\td = num\n",
    "\telse:\n",
    "\t\tnum = -num\n",
    "\t\tnum = num * (2**fracBits)  #number of fractional bits\n",
    "\t\tnum = int(num)\n",
    "\t\tif num == 0:\n",
    "\t\t\td = 0\n",
    "\t\telse:\n",
    "\t\t\td = 2**dataWidth - num\n",
    "\treturn d"
   ]
  },
  {
   "cell_type": "markdown",
   "metadata": {},
   "source": [
    "Funcion para generar los weights and bias"
   ]
  },
  {
   "cell_type": "code",
   "execution_count": 4,
   "metadata": {},
   "outputs": [],
   "source": [
    "def genWeightAndBias(dataWidth,weightFracWidth,biasFracWidth,inputFile):\n",
    "\tweightIntWidth = dataWidth-weightFracWidth\n",
    "\tbiasIntWidth = dataWidth-biasFracWidth\n",
    "\tmyDataFile = open(inputFile,\"r\")\n",
    "\tweightHeaderFile = open(headerPath+\"weightValues.h\",\"w\")\n",
    "\tmyData = myDataFile.read()\n",
    "\tmyDict = json.loads(myData)\n",
    "\tmyWeights = myDict['weights']\n",
    "\tmyBiases = myDict['biases']\n",
    "\tweightHeaderFile.write(\"int weightValues[]={\")\n",
    "\tfor layer in range(0,len(myWeights)):\n",
    "\t\tfor neuron in range(0,len(myWeights[layer])):\n",
    "\t\t\tfi = 'w_'+str(layer+1)+'_'+str(neuron)+'.mif'\n",
    "\t\t\tf = open(outputPath+fi,'w')\n",
    "\t\t\tfor weight in range(0,len(myWeights[layer][neuron])):\n",
    "\t\t\t\tif 'e' in str(myWeights[layer][neuron][weight]):\n",
    "\t\t\t\t\tp = '0'\n",
    "\t\t\t\telse:\n",
    "\t\t\t\t\tif myWeights[layer][neuron][weight] > 2**(weightIntWidth-1):\n",
    "\t\t\t\t\t\tmyWeights[layer][neuron][weight] = 2**(weightIntWidth-1)-2**(-weightFracWidth)\n",
    "\t\t\t\t\telif myWeights[layer][neuron][weight] < -2**(weightIntWidth-1):\n",
    "\t\t\t\t\t\tmyWeights[layer][neuron][weight] = -2**(weightIntWidth-1)\n",
    "\t\t\t\t\twInDec = DtoB(myWeights[layer][neuron][weight],dataWidth,weightFracWidth)\n",
    "\t\t\t\t\tp = bin(wInDec)[2:]\n",
    "\t\t\t\tf.write(p+'\\n')\n",
    "\t\t\t\tweightHeaderFile.write(str(wInDec)+',')\n",
    "\t\t\tf.close()\n",
    "\tweightHeaderFile.write('0};\\n')\n",
    "\tweightHeaderFile.close()\n",
    "\t\n",
    "\tbiasHeaderFile = open(headerPath+\"biasValues.h\",\"w\")\n",
    "\tbiasHeaderFile.write(\"int biasValues[]={\")\n",
    "\tfor layer in range(0,len(myBiases)):\n",
    "\t\tfor neuron in range(0,len(myBiases[layer])):\n",
    "\t\t\tfi = 'b_'+str(layer+1)+'_'+str(neuron)+'.mif'\n",
    "\t\t\tp = myBiases[layer][neuron][0]\n",
    "\t\t\tif 'e' in str(p): #To remove very small values with exponents\n",
    "\t\t\t\tres = '0'\n",
    "\t\t\telse:\n",
    "\t\t\t\tif p > 2**(biasIntWidth-1):\n",
    "\t\t\t\t\tp = 2**(biasIntWidth-1)-2**(-biasFracWidth)\n",
    "\t\t\t\telif p < -2**(biasIntWidth-1):\n",
    "\t\t\t\t\tp = -2**(biasIntWidth-1)\n",
    "\t\t\t\tbInDec = DtoB(p,dataWidth,biasFracWidth)\n",
    "\t\t\t\tres = bin(bInDec)[2:]\n",
    "\t\t\tf = open(outputPath+fi,'w')\n",
    "\t\t\tf.write(res)\n",
    "\t\t\tbiasHeaderFile.write(str(bInDec)+',')\n",
    "\t\t\tf.close()\n",
    "\tbiasHeaderFile.write('0};\\n')\n",
    "\tbiasHeaderFile.close()"
   ]
  },
  {
   "cell_type": "markdown",
   "metadata": {},
   "source": [
    "Generacion de Weights and Bias"
   ]
  },
  {
   "cell_type": "code",
   "execution_count": 6,
   "metadata": {},
   "outputs": [],
   "source": [
    "genWeightAndBias(dataWidth,weightFracWidth,biasFracWidth,inputFile)"
   ]
  }
 ],
 "metadata": {
  "kernelspec": {
   "display_name": "Python 3.10.9 64-bit (microsoft store)",
   "language": "python",
   "name": "python3"
  },
  "language_info": {
   "codemirror_mode": {
    "name": "ipython",
    "version": 3
   },
   "file_extension": ".py",
   "mimetype": "text/x-python",
   "name": "python",
   "nbconvert_exporter": "python",
   "pygments_lexer": "ipython3",
   "version": "3.10.9"
  },
  "orig_nbformat": 4,
  "vscode": {
   "interpreter": {
    "hash": "4f2e58eb3fbe763d544ca8c764ae0dafb8a783ad3590ae35f64050946caeb10d"
   }
  }
 },
 "nbformat": 4,
 "nbformat_minor": 2
}
