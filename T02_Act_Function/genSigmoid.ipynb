{
 "cells": [
  {
   "attachments": {},
   "cell_type": "markdown",
   "metadata": {},
   "source": [
    "# Sigmoid generator \n",
    "\n",
    "This code is use to generate the coeficients of the sigmoid signal"
   ]
  },
  {
   "cell_type": "code",
   "execution_count": 7,
   "metadata": {},
   "outputs": [],
   "source": [
    "import math\n",
    "import matplotlib.pyplot as plt"
   ]
  },
  {
   "attachments": {},
   "cell_type": "markdown",
   "metadata": {},
   "source": [
    "### function sigmoid"
   ]
  },
  {
   "cell_type": "code",
   "execution_count": 8,
   "metadata": {},
   "outputs": [],
   "source": [
    "def sigmoid(x):\n",
    "    try:\n",
    "        return 1 / (1+math.exp(-x)) #for x less than -1023 will give value error\n",
    "    except:\n",
    "        return 0"
   ]
  },
  {
   "attachments": {},
   "cell_type": "markdown",
   "metadata": {},
   "source": [
    "### function Decimal to Binary"
   ]
  },
  {
   "cell_type": "code",
   "execution_count": 9,
   "metadata": {},
   "outputs": [],
   "source": [
    "def DtoB(num, dataWidth, fracBits): #funtion for converting into two's complement format\n",
    "    if num >= 0:\n",
    "        num = num * (2**fracBits)\n",
    "        num = int(num)\n",
    "        e = bin(num)[2:]\n",
    "    else:\n",
    "        num = -num\n",
    "        num = num * (2**fracBits) # number of fractional bits\n",
    "        num = int(num)\n",
    "        if num == 0:\n",
    "            d = 0\n",
    "        else:\n",
    "            d = 2**dataWidth - num\n",
    "        e = bin(d)[2:]\n",
    "    return e"
   ]
  },
  {
   "attachments": {},
   "cell_type": "markdown",
   "metadata": {},
   "source": [
    "### funtion generate sigmoid content"
   ]
  },
  {
   "cell_type": "code",
   "execution_count": 14,
   "metadata": {},
   "outputs": [],
   "source": [
    "def genSigContent(dataWidth, sigmoidSize, weightIntSize, inputIntSize):\n",
    "    f = open(\"sigContent.mif\", \"w\")\n",
    "    fractBits = sigmoidSize-(weightIntSize+inputIntSize)\n",
    "    if fractBits < 0: #Sigmoid size is smaller the integer part of the MAC operation\n",
    "        fractBits = 0\n",
    "    x = -2**(weightIntSize+inputIntSize-1) #Smallest input going to the Sigmoid LUT from the neuron\n",
    "    gy = []\n",
    "    gx = []\n",
    "    for i in range(0, 2**sigmoidSize):\n",
    "        y = sigmoid(x)\n",
    "        z = DtoB(y, dataWidth, dataWidth-inputIntSize)\n",
    "        f.write(z+'\\n')\n",
    "        x = x+(2**-fractBits)\n",
    "\n",
    "        gy.append(y)\n",
    "        gx.append(x)\n",
    "    f.close()\n",
    "\n",
    "    plt.figure()\n",
    "    plt.plot(gx,gy)"
   ]
  },
  {
   "attachments": {},
   "cell_type": "markdown",
   "metadata": {},
   "source": [
    "## Main function"
   ]
  },
  {
   "cell_type": "code",
   "execution_count": 16,
   "metadata": {},
   "outputs": [
    {
     "data": {
      "image/png": "[encoded data removed]",
      "text/plain": [
       "<Figure size 640x480 with 1 Axes>"
      ]
     },
     "metadata": {},
     "output_type": "display_data"
    }
   ],
   "source": [
    "genSigContent(dataWidth=16, sigmoidSize=10, weightIntSize=4, inputIntSize=1)"
   ]
  }
 ],
 "metadata": {
  "kernelspec": {
   "display_name": "Python 3",
   "language": "python",
   "name": "python3"
  },
  "language_info": {
   "codemirror_mode": {
    "name": "ipython",
    "version": 3
   },
   "file_extension": ".py",
   "mimetype": "text/x-python",
   "name": "python",
   "nbconvert_exporter": "python",
   "pygments_lexer": "ipython3",
   "version": "3.10.9"
  },
  "orig_nbformat": 4,
  "vscode": {
   "interpreter": {
    "hash": "6f59339097bb9ac4cf41ab9fa2e7f783ea6bb84442f6ce2c2671fa41ded377c2"
   }
  }
 },
 "nbformat": 4,
 "nbformat_minor": 2
}
